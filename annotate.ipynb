{
 "cells": [
  {
   "cell_type": "markdown",
   "metadata": {},
   "source": [
    "# Team Project - Elections - Silver Annotation"
   ]
  },
  {
   "cell_type": "markdown",
   "metadata": {},
   "source": [
    "## Importing all the libraries"
   ]
  },
  {
   "cell_type": "code",
   "execution_count": 33,
   "metadata": {},
   "outputs": [],
   "source": [
    "import pandas as pd\n",
    "import ollama\n",
    "\n",
    "import nltk\n",
    "from nltk.corpus import stopwords\n",
    "import string\n",
    "import re\n",
    "import emoji"
   ]
  },
  {
   "cell_type": "markdown",
   "metadata": {},
   "source": [
    "### Reading the JSON file"
   ]
  },
  {
   "cell_type": "code",
   "execution_count": 4,
   "metadata": {},
   "outputs": [],
   "source": [
    "df = pd.read_json('Data/03_Sharath.json',lines=True)"
   ]
  },
  {
   "cell_type": "markdown",
   "metadata": {},
   "source": [
    "## Pre-processing"
   ]
  },
  {
   "cell_type": "code",
   "execution_count": 9,
   "metadata": {},
   "outputs": [],
   "source": [
    "# Remove _id column\n",
    "\n",
    "df = df.drop(columns=['_id'])"
   ]
  },
  {
   "cell_type": "code",
   "execution_count": 17,
   "metadata": {},
   "outputs": [
    {
     "name": "stderr",
     "output_type": "stream",
     "text": [
      "[nltk_data] Downloading package stopwords to\n",
      "[nltk_data]     C:\\Users\\DELL\\AppData\\Roaming\\nltk_data...\n",
      "[nltk_data]   Unzipping corpora\\stopwords.zip.\n"
     ]
    },
    {
     "data": {
      "text/plain": [
       "True"
      ]
     },
     "execution_count": 17,
     "metadata": {},
     "output_type": "execute_result"
    }
   ],
   "source": [
    "nltk.download('stopwords')"
   ]
  },
  {
   "cell_type": "markdown",
   "metadata": {},
   "source": [
    "### Helper Functions"
   ]
  },
  {
   "cell_type": "code",
   "execution_count": 18,
   "metadata": {},
   "outputs": [],
   "source": [
    "def remove_stopwords_and_punctuation(tweet_column):\n",
    "    stop_words = set(stopwords.words('english'))\n",
    "    cleaned_tweets = []\n",
    "\n",
    "    for tweet in tweet_column:\n",
    "        # Remove punctuation\n",
    "        tweet = tweet.translate(str.maketrans(\"\", \"\", string.punctuation))\n",
    "\n",
    "        # Remove stop words\n",
    "        words = tweet.split()\n",
    "        filtered_words = [word.lower() for word in words if word.lower() not in stop_words]\n",
    "        cleaned_tweets.append(' '.join(filtered_words))\n",
    "\n",
    "    return cleaned_tweets"
   ]
  },
  {
   "cell_type": "code",
   "execution_count": 21,
   "metadata": {},
   "outputs": [],
   "source": [
    "def remove_mentions(tweet_column):\n",
    "    # Use regular expression to remove mentions\n",
    "    pattern = re.compile(r'@[a-zA-Z0-9_]+')\n",
    "    cleaned_tweets = [re.sub(pattern, '', tweet) for tweet in tweet_column]\n",
    "    return cleaned_tweets"
   ]
  },
  {
   "cell_type": "code",
   "execution_count": 25,
   "metadata": {},
   "outputs": [],
   "source": [
    "def tokenize_tweets(tweet_column):\n",
    "    # Split and strip each tweet into tokens\n",
    "    tokenized_tweets = [tweet.split() for tweet in tweet_column]\n",
    "    return tokenized_tweets"
   ]
  },
  {
   "cell_type": "code",
   "execution_count": 35,
   "metadata": {},
   "outputs": [],
   "source": [
    "def convert_emoji_to_emotion(tweet_column):\n",
    "    # Convert emojis to corresponding emotions\n",
    "    converted_tweets = [emoji.demojize(tweet) for tweet in tweet_column]\n",
    "    return converted_tweets"
   ]
  },
  {
   "cell_type": "markdown",
   "metadata": {},
   "source": [
    "### Applying all the functions"
   ]
  },
  {
   "cell_type": "code",
   "execution_count": 36,
   "metadata": {},
   "outputs": [],
   "source": [
    "# Apply the text processing functions to the 'tweets' column\n",
    "\n",
    "df['anonymized_tweets'] = remove_mentions(df['text'])\n",
    "df['cleaned_tweets'] = remove_stopwords_and_punctuation(df['anonymized_tweets'])\n",
    "df['cleaned_tweets'] = convert_emoji_to_emotion(df['cleaned_tweets'])\n",
    "df['tokenized_tweets'] = tokenize_tweets(df['cleaned_tweets'])"
   ]
  },
  {
   "cell_type": "code",
   "execution_count": 41,
   "metadata": {},
   "outputs": [
    {
     "name": "stdout",
     "output_type": "stream",
     "text": [
      "@DavidLammy @DailyMirror This isnt the USA you know!🤔 ['isnt', 'usa', 'know:thinking_face:']\n"
     ]
    }
   ],
   "source": [
    "# Display the DataFrame\n",
    "\n",
    "print(df['text'][1],df['tokenized_tweets'][1])"
   ]
  },
  {
   "cell_type": "markdown",
   "metadata": {},
   "source": [
    "### OLLAMA Annotation"
   ]
  },
  {
   "cell_type": "markdown",
   "metadata": {},
   "source": [
    "### Designing prompt"
   ]
  },
  {
   "cell_type": "code",
   "execution_count": 52,
   "metadata": {},
   "outputs": [],
   "source": [
    "def promt_generator(df,i):\n",
    "    prompt = \"\"\"\n",
    "        Task:** Assign one or more labels to the following text. Each label corresponds to a specific category. Please read the text and select all the relevant labels.\n",
    "        Labels:**\n",
    "        1. Anti-EU-related narratives\n",
    "        2. Anti-Elites\n",
    "        3. Distrust in democratic system-related narratives\n",
    "        4. Distrust in institutions-related narratives\n",
    "        5. Ethnic-related narratives\n",
    "        6. Gender-related narratives\n",
    "        7. Geopolitics\n",
    "        8. Migration-related narratives\n",
    "        9. Political hate-related narratives\n",
    "        10.Religious-related narratives\n",
    "\n",
    "        **Text to be categorized:**\n",
    "        \"\"\" + str(df['tokenized_tweets'][i]) + \"\"\"\n",
    "\n",
    "        **Instructions:**\n",
    "        1. Read the provided text carefully.\n",
    "        2. Determine all the relevant categories that apply to the text.\n",
    "        3. Choose the corresponding label numbers (1-8) that best represent the content.\n",
    "        4. If the text doesn't fit any of the labels, select the one that is the closest match.\n",
    "\n",
    "        OUTPUT: Please provide ONLY the label numbers separated by commas WITHOUT additional explanation. For example, if you think the text fits Label_1 and Label_3, you should enter \"1, 3\".\n",
    "        \"\"\"\n",
    "    return prompt"
   ]
  },
  {
   "cell_type": "markdown",
   "metadata": {},
   "source": [
    "### Tweet ID-wise Ollama Anatotion"
   ]
  },
  {
   "cell_type": "code",
   "execution_count": 51,
   "metadata": {},
   "outputs": [
    {
     "name": "stdout",
     "output_type": "stream",
     "text": [
      "0\n",
      "I have read the provided text and based on my analysis, I would categorize it under the following labels:\n",
      "\n",
      "1, 3, 8.\n",
      "1\n",
      "I have read the provided text and selected the following labels:\n",
      "\n",
      "1, 2, 3, 8\n"
     ]
    }
   ],
   "source": [
    "for i in range(0, 2):\n",
    "    prompt = promt_generator(df,i)\n",
    "    print(i)\n",
    "    print(ollama.generate(model='llama2', prompt=prompt)['response'])"
   ]
  }
 ],
 "metadata": {
  "kernelspec": {
   "display_name": "Python 3",
   "language": "python",
   "name": "python3"
  },
  "language_info": {
   "codemirror_mode": {
    "name": "ipython",
    "version": 3
   },
   "file_extension": ".py",
   "mimetype": "text/x-python",
   "name": "python",
   "nbconvert_exporter": "python",
   "pygments_lexer": "ipython3",
   "version": "3.11.0"
  }
 },
 "nbformat": 4,
 "nbformat_minor": 2
}
